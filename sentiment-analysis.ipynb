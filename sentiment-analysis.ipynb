{
 "cells": [
  {
   "cell_type": "code",
   "execution_count": 1,
   "metadata": {
    "_cell_guid": "b1076dfc-b9ad-4769-8c92-a6c4dae69d19",
    "_uuid": "8f2839f25d086af736a60e9eeb907d3b93b6e0e5"
   },
   "outputs": [
    {
     "name": "stdout",
     "output_type": "stream",
     "text": [
      "['test.csv', 'train.csv', 'logisticRegression.pkl']\n"
     ]
    }
   ],
   "source": [
    "#Sentiment Analysis\n",
    "import numpy as np # linear algebra\n",
    "import pandas as pd \n",
    "\n",
    "import os\n",
    "print(os.listdir(\"../input\"))\n",
    "\n"
   ]
  },
  {
   "cell_type": "markdown",
   "metadata": {
    "_uuid": "40aa8f0345e80c80b1fc58cd17e9558537fc0b61"
   },
   "source": [
    "Here we begin with a dataset containing sample tweets for which we will preprocess the tweets. "
   ]
  },
  {
   "cell_type": "code",
   "execution_count": 2,
   "metadata": {
    "_cell_guid": "79c7e3d0-c299-4dcb-8224-4455121ee9b0",
    "_uuid": "d629ff2d2480ee46fbb7e2d37f6b5fab8052498a"
   },
   "outputs": [
    {
     "data": {
      "text/html": [
       "<div>\n",
       "<style scoped>\n",
       "    .dataframe tbody tr th:only-of-type {\n",
       "        vertical-align: middle;\n",
       "    }\n",
       "\n",
       "    .dataframe tbody tr th {\n",
       "        vertical-align: top;\n",
       "    }\n",
       "\n",
       "    .dataframe thead th {\n",
       "        text-align: right;\n",
       "    }\n",
       "</style>\n",
       "<table border=\"1\" class=\"dataframe\">\n",
       "  <thead>\n",
       "    <tr style=\"text-align: right;\">\n",
       "      <th></th>\n",
       "      <th>ItemID</th>\n",
       "      <th>Sentiment</th>\n",
       "      <th>SentimentText</th>\n",
       "    </tr>\n",
       "  </thead>\n",
       "  <tbody>\n",
       "    <tr>\n",
       "      <th>0</th>\n",
       "      <td>1</td>\n",
       "      <td>0</td>\n",
       "      <td>is so sad for my APL frie...</td>\n",
       "    </tr>\n",
       "    <tr>\n",
       "      <th>1</th>\n",
       "      <td>2</td>\n",
       "      <td>0</td>\n",
       "      <td>I missed the New Moon trail...</td>\n",
       "    </tr>\n",
       "    <tr>\n",
       "      <th>2</th>\n",
       "      <td>3</td>\n",
       "      <td>1</td>\n",
       "      <td>omg its already 7:30 :O</td>\n",
       "    </tr>\n",
       "    <tr>\n",
       "      <th>3</th>\n",
       "      <td>4</td>\n",
       "      <td>0</td>\n",
       "      <td>.. Omgaga. Im sooo  im gunna CRy. I'...</td>\n",
       "    </tr>\n",
       "    <tr>\n",
       "      <th>4</th>\n",
       "      <td>5</td>\n",
       "      <td>0</td>\n",
       "      <td>i think mi bf is cheating on me!!!   ...</td>\n",
       "    </tr>\n",
       "  </tbody>\n",
       "</table>\n",
       "</div>"
      ],
      "text/plain": [
       "   ItemID                        ...                                                              SentimentText\n",
       "0       1                        ...                                               is so sad for my APL frie...\n",
       "1       2                        ...                                             I missed the New Moon trail...\n",
       "2       3                        ...                                                    omg its already 7:30 :O\n",
       "3       4                        ...                                    .. Omgaga. Im sooo  im gunna CRy. I'...\n",
       "4       5                        ...                                   i think mi bf is cheating on me!!!   ...\n",
       "\n",
       "[5 rows x 3 columns]"
      ]
     },
     "execution_count": 2,
     "metadata": {},
     "output_type": "execute_result"
    }
   ],
   "source": [
    "train = pd.read_csv(\"../input/train.csv\", encoding=\"latin-1\")\n",
    "train.head()\n"
   ]
  },
  {
   "cell_type": "code",
   "execution_count": 3,
   "metadata": {
    "_uuid": "2963e10e6f72ff14e86477bc0691be6ff1953357"
   },
   "outputs": [
    {
     "data": {
      "text/html": [
       "<div>\n",
       "<style scoped>\n",
       "    .dataframe tbody tr th:only-of-type {\n",
       "        vertical-align: middle;\n",
       "    }\n",
       "\n",
       "    .dataframe tbody tr th {\n",
       "        vertical-align: top;\n",
       "    }\n",
       "\n",
       "    .dataframe thead th {\n",
       "        text-align: right;\n",
       "    }\n",
       "</style>\n",
       "<table border=\"1\" class=\"dataframe\">\n",
       "  <thead>\n",
       "    <tr style=\"text-align: right;\">\n",
       "      <th></th>\n",
       "      <th>word_count</th>\n",
       "      <th>SentimentText</th>\n",
       "    </tr>\n",
       "  </thead>\n",
       "  <tbody>\n",
       "    <tr>\n",
       "      <th>0</th>\n",
       "      <td>28</td>\n",
       "      <td>is so sad for my APL frie...</td>\n",
       "    </tr>\n",
       "    <tr>\n",
       "      <th>1</th>\n",
       "      <td>25</td>\n",
       "      <td>I missed the New Moon trail...</td>\n",
       "    </tr>\n",
       "    <tr>\n",
       "      <th>2</th>\n",
       "      <td>19</td>\n",
       "      <td>omg its already 7:30 :O</td>\n",
       "    </tr>\n",
       "    <tr>\n",
       "      <th>3</th>\n",
       "      <td>36</td>\n",
       "      <td>.. Omgaga. Im sooo  im gunna CRy. I'...</td>\n",
       "    </tr>\n",
       "    <tr>\n",
       "      <th>4</th>\n",
       "      <td>24</td>\n",
       "      <td>i think mi bf is cheating on me!!!   ...</td>\n",
       "    </tr>\n",
       "  </tbody>\n",
       "</table>\n",
       "</div>"
      ],
      "text/plain": [
       "   word_count                                      SentimentText\n",
       "0          28                       is so sad for my APL frie...\n",
       "1          25                     I missed the New Moon trail...\n",
       "2          19                            omg its already 7:30 :O\n",
       "3          36            .. Omgaga. Im sooo  im gunna CRy. I'...\n",
       "4          24           i think mi bf is cheating on me!!!   ..."
      ]
     },
     "execution_count": 3,
     "metadata": {},
     "output_type": "execute_result"
    }
   ],
   "source": [
    "train[\"word_count\"]=train['SentimentText'].apply(lambda x: len(str(x).split(\" \")))\n",
    "train[['word_count', 'SentimentText']].head(5)"
   ]
  },
  {
   "cell_type": "code",
   "execution_count": 4,
   "metadata": {
    "_uuid": "0c06b7e5c91de5355d4fa3ebc0d4c89cade9dee1"
   },
   "outputs": [
    {
     "data": {
      "text/html": [
       "<div>\n",
       "<style scoped>\n",
       "    .dataframe tbody tr th:only-of-type {\n",
       "        vertical-align: middle;\n",
       "    }\n",
       "\n",
       "    .dataframe tbody tr th {\n",
       "        vertical-align: top;\n",
       "    }\n",
       "\n",
       "    .dataframe thead th {\n",
       "        text-align: right;\n",
       "    }\n",
       "</style>\n",
       "<table border=\"1\" class=\"dataframe\">\n",
       "  <thead>\n",
       "    <tr style=\"text-align: right;\">\n",
       "      <th></th>\n",
       "      <th>character_count</th>\n",
       "      <th>SentimentText</th>\n",
       "    </tr>\n",
       "  </thead>\n",
       "  <tbody>\n",
       "    <tr>\n",
       "      <th>0</th>\n",
       "      <td>61</td>\n",
       "      <td>is so sad for my APL frie...</td>\n",
       "    </tr>\n",
       "    <tr>\n",
       "      <th>1</th>\n",
       "      <td>51</td>\n",
       "      <td>I missed the New Moon trail...</td>\n",
       "    </tr>\n",
       "    <tr>\n",
       "      <th>2</th>\n",
       "      <td>37</td>\n",
       "      <td>omg its already 7:30 :O</td>\n",
       "    </tr>\n",
       "    <tr>\n",
       "      <th>3</th>\n",
       "      <td>132</td>\n",
       "      <td>.. Omgaga. Im sooo  im gunna CRy. I'...</td>\n",
       "    </tr>\n",
       "    <tr>\n",
       "      <th>4</th>\n",
       "      <td>53</td>\n",
       "      <td>i think mi bf is cheating on me!!!   ...</td>\n",
       "    </tr>\n",
       "  </tbody>\n",
       "</table>\n",
       "</div>"
      ],
      "text/plain": [
       "   character_count                                      SentimentText\n",
       "0               61                       is so sad for my APL frie...\n",
       "1               51                     I missed the New Moon trail...\n",
       "2               37                            omg its already 7:30 :O\n",
       "3              132            .. Omgaga. Im sooo  im gunna CRy. I'...\n",
       "4               53           i think mi bf is cheating on me!!!   ..."
      ]
     },
     "execution_count": 4,
     "metadata": {},
     "output_type": "execute_result"
    }
   ],
   "source": [
    "train[\"character_count\"]=train[\"SentimentText\"].str.len()\n",
    "train[[\"character_count\", \"SentimentText\"]].head(5)"
   ]
  },
  {
   "cell_type": "code",
   "execution_count": 5,
   "metadata": {
    "_uuid": "6db4791a8eee73a803a14d2e14ad50969dabfa2b"
   },
   "outputs": [
    {
     "data": {
      "text/html": [
       "<div>\n",
       "<style scoped>\n",
       "    .dataframe tbody tr th:only-of-type {\n",
       "        vertical-align: middle;\n",
       "    }\n",
       "\n",
       "    .dataframe tbody tr th {\n",
       "        vertical-align: top;\n",
       "    }\n",
       "\n",
       "    .dataframe thead th {\n",
       "        text-align: right;\n",
       "    }\n",
       "</style>\n",
       "<table border=\"1\" class=\"dataframe\">\n",
       "  <thead>\n",
       "    <tr style=\"text-align: right;\">\n",
       "      <th></th>\n",
       "      <th>word_length</th>\n",
       "      <th>SentimentText</th>\n",
       "    </tr>\n",
       "  </thead>\n",
       "  <tbody>\n",
       "    <tr>\n",
       "      <th>0</th>\n",
       "      <td>4.857143</td>\n",
       "      <td>is so sad for my APL frie...</td>\n",
       "    </tr>\n",
       "    <tr>\n",
       "      <th>1</th>\n",
       "      <td>4.500000</td>\n",
       "      <td>I missed the New Moon trail...</td>\n",
       "    </tr>\n",
       "    <tr>\n",
       "      <th>2</th>\n",
       "      <td>3.800000</td>\n",
       "      <td>omg its already 7:30 :O</td>\n",
       "    </tr>\n",
       "    <tr>\n",
       "      <th>3</th>\n",
       "      <td>3.880000</td>\n",
       "      <td>.. Omgaga. Im sooo  im gunna CRy. I'...</td>\n",
       "    </tr>\n",
       "    <tr>\n",
       "      <th>4</th>\n",
       "      <td>3.333333</td>\n",
       "      <td>i think mi bf is cheating on me!!!   ...</td>\n",
       "    </tr>\n",
       "  </tbody>\n",
       "</table>\n",
       "</div>"
      ],
      "text/plain": [
       "   word_length                                      SentimentText\n",
       "0     4.857143                       is so sad for my APL frie...\n",
       "1     4.500000                     I missed the New Moon trail...\n",
       "2     3.800000                            omg its already 7:30 :O\n",
       "3     3.880000            .. Omgaga. Im sooo  im gunna CRy. I'...\n",
       "4     3.333333           i think mi bf is cheating on me!!!   ..."
      ]
     },
     "execution_count": 5,
     "metadata": {},
     "output_type": "execute_result"
    }
   ],
   "source": [
    "def avg_word(sentence):\n",
    "    words=sentence.split()\n",
    "    return(sum(len(word) for word in words)/len(words))\n",
    "\n",
    "train[\"word_length\"]=train[\"SentimentText\"].apply(lambda x: avg_word(x))\n",
    "train[[\"word_length\", \"SentimentText\"]].head()\n",
    "    "
   ]
  },
  {
   "cell_type": "code",
   "execution_count": 6,
   "metadata": {
    "_uuid": "1d8e5b4aeed8b6bc854a2aad24859847d3a663c5"
   },
   "outputs": [
    {
     "data": {
      "text/html": [
       "<div>\n",
       "<style scoped>\n",
       "    .dataframe tbody tr th:only-of-type {\n",
       "        vertical-align: middle;\n",
       "    }\n",
       "\n",
       "    .dataframe tbody tr th {\n",
       "        vertical-align: top;\n",
       "    }\n",
       "\n",
       "    .dataframe thead th {\n",
       "        text-align: right;\n",
       "    }\n",
       "</style>\n",
       "<table border=\"1\" class=\"dataframe\">\n",
       "  <thead>\n",
       "    <tr style=\"text-align: right;\">\n",
       "      <th></th>\n",
       "      <th>stop_words</th>\n",
       "      <th>SentimentText</th>\n",
       "    </tr>\n",
       "  </thead>\n",
       "  <tbody>\n",
       "    <tr>\n",
       "      <th>0</th>\n",
       "      <td>4</td>\n",
       "      <td>is so sad for my APL frie...</td>\n",
       "    </tr>\n",
       "    <tr>\n",
       "      <th>1</th>\n",
       "      <td>1</td>\n",
       "      <td>I missed the New Moon trail...</td>\n",
       "    </tr>\n",
       "    <tr>\n",
       "      <th>2</th>\n",
       "      <td>1</td>\n",
       "      <td>omg its already 7:30 :O</td>\n",
       "    </tr>\n",
       "    <tr>\n",
       "      <th>3</th>\n",
       "      <td>7</td>\n",
       "      <td>.. Omgaga. Im sooo  im gunna CRy. I'...</td>\n",
       "    </tr>\n",
       "    <tr>\n",
       "      <th>4</th>\n",
       "      <td>3</td>\n",
       "      <td>i think mi bf is cheating on me!!!   ...</td>\n",
       "    </tr>\n",
       "  </tbody>\n",
       "</table>\n",
       "</div>"
      ],
      "text/plain": [
       "   stop_words                                      SentimentText\n",
       "0           4                       is so sad for my APL frie...\n",
       "1           1                     I missed the New Moon trail...\n",
       "2           1                            omg its already 7:30 :O\n",
       "3           7            .. Omgaga. Im sooo  im gunna CRy. I'...\n",
       "4           3           i think mi bf is cheating on me!!!   ..."
      ]
     },
     "execution_count": 6,
     "metadata": {},
     "output_type": "execute_result"
    }
   ],
   "source": [
    "from nltk.corpus import stopwords\n",
    "stop = stopwords.words('english')\n",
    "\n",
    "train[\"stop_words\"]=train[\"SentimentText\"].apply(lambda x: len([x for x in x.split() if x in stop]))\n",
    "train[[\"stop_words\", \"SentimentText\"]].head()\n",
    "                                                 "
   ]
  },
  {
   "cell_type": "code",
   "execution_count": 7,
   "metadata": {
    "_uuid": "8dea474f3bdab6bbe47d1bdad44430b1dfad716f"
   },
   "outputs": [
    {
     "data": {
      "text/html": [
       "<div>\n",
       "<style scoped>\n",
       "    .dataframe tbody tr th:only-of-type {\n",
       "        vertical-align: middle;\n",
       "    }\n",
       "\n",
       "    .dataframe tbody tr th {\n",
       "        vertical-align: top;\n",
       "    }\n",
       "\n",
       "    .dataframe thead th {\n",
       "        text-align: right;\n",
       "    }\n",
       "</style>\n",
       "<table border=\"1\" class=\"dataframe\">\n",
       "  <thead>\n",
       "    <tr style=\"text-align: right;\">\n",
       "      <th></th>\n",
       "      <th>hashtags</th>\n",
       "      <th>SentimentText</th>\n",
       "    </tr>\n",
       "  </thead>\n",
       "  <tbody>\n",
       "    <tr>\n",
       "      <th>0</th>\n",
       "      <td>0</td>\n",
       "      <td>is so sad for my APL frie...</td>\n",
       "    </tr>\n",
       "    <tr>\n",
       "      <th>1</th>\n",
       "      <td>0</td>\n",
       "      <td>I missed the New Moon trail...</td>\n",
       "    </tr>\n",
       "    <tr>\n",
       "      <th>2</th>\n",
       "      <td>0</td>\n",
       "      <td>omg its already 7:30 :O</td>\n",
       "    </tr>\n",
       "    <tr>\n",
       "      <th>3</th>\n",
       "      <td>0</td>\n",
       "      <td>.. Omgaga. Im sooo  im gunna CRy. I'...</td>\n",
       "    </tr>\n",
       "    <tr>\n",
       "      <th>4</th>\n",
       "      <td>0</td>\n",
       "      <td>i think mi bf is cheating on me!!!   ...</td>\n",
       "    </tr>\n",
       "    <tr>\n",
       "      <th>5</th>\n",
       "      <td>0</td>\n",
       "      <td>or i just worry too much?</td>\n",
       "    </tr>\n",
       "    <tr>\n",
       "      <th>6</th>\n",
       "      <td>0</td>\n",
       "      <td>Juuuuuuuuuuuuuuuuussssst Chillin!!</td>\n",
       "    </tr>\n",
       "    <tr>\n",
       "      <th>7</th>\n",
       "      <td>0</td>\n",
       "      <td>Sunny Again        Work Tomorrow  :-|  ...</td>\n",
       "    </tr>\n",
       "    <tr>\n",
       "      <th>8</th>\n",
       "      <td>0</td>\n",
       "      <td>handed in my uniform today . i miss you ...</td>\n",
       "    </tr>\n",
       "    <tr>\n",
       "      <th>9</th>\n",
       "      <td>0</td>\n",
       "      <td>hmmmm.... i wonder how she my number @-)</td>\n",
       "    </tr>\n",
       "  </tbody>\n",
       "</table>\n",
       "</div>"
      ],
      "text/plain": [
       "   hashtags                                      SentimentText\n",
       "0         0                       is so sad for my APL frie...\n",
       "1         0                     I missed the New Moon trail...\n",
       "2         0                            omg its already 7:30 :O\n",
       "3         0            .. Omgaga. Im sooo  im gunna CRy. I'...\n",
       "4         0           i think mi bf is cheating on me!!!   ...\n",
       "5         0                  or i just worry too much?        \n",
       "6         0                 Juuuuuuuuuuuuuuuuussssst Chillin!!\n",
       "7         0         Sunny Again        Work Tomorrow  :-|  ...\n",
       "8         0        handed in my uniform today . i miss you ...\n",
       "9         0           hmmmm.... i wonder how she my number @-)"
      ]
     },
     "execution_count": 7,
     "metadata": {},
     "output_type": "execute_result"
    }
   ],
   "source": [
    "train[\"hashtags\"]=train[\"SentimentText\"].apply(lambda x: len([x for x in x.split() if x.startswith(\"#\")]))\n",
    "train[[\"hashtags\", \"SentimentText\"]].head(10)        "
   ]
  },
  {
   "cell_type": "code",
   "execution_count": 8,
   "metadata": {
    "_uuid": "16598c54e7658111ca4baba5849d567633f854f1"
   },
   "outputs": [
    {
     "data": {
      "text/html": [
       "<div>\n",
       "<style scoped>\n",
       "    .dataframe tbody tr th:only-of-type {\n",
       "        vertical-align: middle;\n",
       "    }\n",
       "\n",
       "    .dataframe tbody tr th {\n",
       "        vertical-align: top;\n",
       "    }\n",
       "\n",
       "    .dataframe thead th {\n",
       "        text-align: right;\n",
       "    }\n",
       "</style>\n",
       "<table border=\"1\" class=\"dataframe\">\n",
       "  <thead>\n",
       "    <tr style=\"text-align: right;\">\n",
       "      <th></th>\n",
       "      <th>numerics</th>\n",
       "      <th>SentimentText</th>\n",
       "    </tr>\n",
       "  </thead>\n",
       "  <tbody>\n",
       "    <tr>\n",
       "      <th>0</th>\n",
       "      <td>0</td>\n",
       "      <td>is so sad for my APL frie...</td>\n",
       "    </tr>\n",
       "    <tr>\n",
       "      <th>1</th>\n",
       "      <td>0</td>\n",
       "      <td>I missed the New Moon trail...</td>\n",
       "    </tr>\n",
       "    <tr>\n",
       "      <th>2</th>\n",
       "      <td>0</td>\n",
       "      <td>omg its already 7:30 :O</td>\n",
       "    </tr>\n",
       "    <tr>\n",
       "      <th>3</th>\n",
       "      <td>1</td>\n",
       "      <td>.. Omgaga. Im sooo  im gunna CRy. I'...</td>\n",
       "    </tr>\n",
       "    <tr>\n",
       "      <th>4</th>\n",
       "      <td>0</td>\n",
       "      <td>i think mi bf is cheating on me!!!   ...</td>\n",
       "    </tr>\n",
       "  </tbody>\n",
       "</table>\n",
       "</div>"
      ],
      "text/plain": [
       "   numerics                                      SentimentText\n",
       "0         0                       is so sad for my APL frie...\n",
       "1         0                     I missed the New Moon trail...\n",
       "2         0                            omg its already 7:30 :O\n",
       "3         1            .. Omgaga. Im sooo  im gunna CRy. I'...\n",
       "4         0           i think mi bf is cheating on me!!!   ..."
      ]
     },
     "execution_count": 8,
     "metadata": {},
     "output_type": "execute_result"
    }
   ],
   "source": [
    "train[\"numerics\"]=train[\"SentimentText\"].apply(lambda x: len([x for x in x.split() if x.isdigit()]))\n",
    "train[[\"numerics\", \"SentimentText\"]].head()"
   ]
  },
  {
   "cell_type": "code",
   "execution_count": 9,
   "metadata": {
    "_uuid": "10654b0d5feed4e732f1f77f7b1211048e9665bf"
   },
   "outputs": [
    {
     "data": {
      "text/html": [
       "<div>\n",
       "<style scoped>\n",
       "    .dataframe tbody tr th:only-of-type {\n",
       "        vertical-align: middle;\n",
       "    }\n",
       "\n",
       "    .dataframe tbody tr th {\n",
       "        vertical-align: top;\n",
       "    }\n",
       "\n",
       "    .dataframe thead th {\n",
       "        text-align: right;\n",
       "    }\n",
       "</style>\n",
       "<table border=\"1\" class=\"dataframe\">\n",
       "  <thead>\n",
       "    <tr style=\"text-align: right;\">\n",
       "      <th></th>\n",
       "      <th>upper</th>\n",
       "      <th>SentimentText</th>\n",
       "    </tr>\n",
       "  </thead>\n",
       "  <tbody>\n",
       "    <tr>\n",
       "      <th>0</th>\n",
       "      <td>1</td>\n",
       "      <td>is so sad for my APL frie...</td>\n",
       "    </tr>\n",
       "    <tr>\n",
       "      <th>1</th>\n",
       "      <td>1</td>\n",
       "      <td>I missed the New Moon trail...</td>\n",
       "    </tr>\n",
       "    <tr>\n",
       "      <th>2</th>\n",
       "      <td>1</td>\n",
       "      <td>omg its already 7:30 :O</td>\n",
       "    </tr>\n",
       "    <tr>\n",
       "      <th>3</th>\n",
       "      <td>1</td>\n",
       "      <td>.. Omgaga. Im sooo  im gunna CRy. I'...</td>\n",
       "    </tr>\n",
       "    <tr>\n",
       "      <th>4</th>\n",
       "      <td>1</td>\n",
       "      <td>i think mi bf is cheating on me!!!   ...</td>\n",
       "    </tr>\n",
       "  </tbody>\n",
       "</table>\n",
       "</div>"
      ],
      "text/plain": [
       "   upper                                      SentimentText\n",
       "0      1                       is so sad for my APL frie...\n",
       "1      1                     I missed the New Moon trail...\n",
       "2      1                            omg its already 7:30 :O\n",
       "3      1            .. Omgaga. Im sooo  im gunna CRy. I'...\n",
       "4      1           i think mi bf is cheating on me!!!   ..."
      ]
     },
     "execution_count": 9,
     "metadata": {},
     "output_type": "execute_result"
    }
   ],
   "source": [
    "train[\"upper\"]=train[\"SentimentText\"].apply(lambda x: len([x for x in x.split() if x.isupper()]))\n",
    "train[[\"upper\", \"SentimentText\"]].head()"
   ]
  },
  {
   "cell_type": "code",
   "execution_count": 10,
   "metadata": {
    "_uuid": "8a61b28336b68a3254a293d7c6abbd86c02f64ee"
   },
   "outputs": [
    {
     "data": {
      "text/plain": [
       "0             is so sad for my apl friend.............\n",
       "1                     i missed the new moon trailer...\n",
       "2                              omg its already 7:30 :o\n",
       "3    .. omgaga. im sooo im gunna cry. i've been at ...\n",
       "4               i think mi bf is cheating on me!!! t_t\n",
       "5                            or i just worry too much?\n",
       "6                   juuuuuuuuuuuuuuuuussssst chillin!!\n",
       "7             sunny again work tomorrow :-| tv tonight\n",
       "8      handed in my uniform today . i miss you already\n",
       "9             hmmmm.... i wonder how she my number @-)\n",
       "Name: SentimentText, dtype: object"
      ]
     },
     "execution_count": 10,
     "metadata": {},
     "output_type": "execute_result"
    }
   ],
   "source": [
    "train['SentimentText'] = train['SentimentText'].apply(lambda x: (\" \".join(x.lower() for x in x.split())))\n",
    "train['SentimentText'].head(10)\n"
   ]
  },
  {
   "cell_type": "code",
   "execution_count": 11,
   "metadata": {
    "_uuid": "91f3eb8f704ae6122345ea784193e100929ea5e0"
   },
   "outputs": [
    {
     "data": {
      "text/plain": [
       "0                          is so sad for my apl friend\n",
       "1                        i missed the new moon trailer\n",
       "2                                omg its already 730 o\n",
       "3     omgaga im sooo im gunna cry ive been at this ...\n",
       "4                  i think mi bf is cheating on me t_t\n",
       "5                             or i just worry too much\n",
       "6                     juuuuuuuuuuuuuuuuussssst chillin\n",
       "7                sunny again work tomorrow  tv tonight\n",
       "8       handed in my uniform today  i miss you already\n",
       "9                    hmmmm i wonder how she my number \n",
       "Name: SentimentText, dtype: object"
      ]
     },
     "execution_count": 11,
     "metadata": {},
     "output_type": "execute_result"
    }
   ],
   "source": [
    "train[\"SentimentText\"]=train[\"SentimentText\"].str.replace('[^\\w\\s]', '')\n",
    "train[\"SentimentText\"].head(10)"
   ]
  },
  {
   "cell_type": "code",
   "execution_count": 12,
   "metadata": {
    "_uuid": "7e159fe108be761a9dd70432ad85f3dec4952905"
   },
   "outputs": [
    {
     "data": {
      "text/plain": [
       "0                                       sad apl friend\n",
       "1                              missed new moon trailer\n",
       "2                                      omg already 730\n",
       "3    omgaga im sooo im gunna cry ive dentist since ...\n",
       "4                             think mi bf cheating t_t\n",
       "5                                           worry much\n",
       "6                     juuuuuuuuuuuuuuuuussssst chillin\n",
       "7                       sunny work tomorrow tv tonight\n",
       "8                    handed uniform today miss already\n",
       "9                                  hmmmm wonder number\n",
       "Name: SentimentText, dtype: object"
      ]
     },
     "execution_count": 12,
     "metadata": {},
     "output_type": "execute_result"
    }
   ],
   "source": [
    "from nltk.corpus import stopwords\n",
    "stop=stopwords.words('english')\n",
    "\n",
    "train[\"SentimentText\"]=train[\"SentimentText\"].apply(lambda x: \" \".join(x for x in x.split() if x not in stop))\n",
    "train[\"SentimentText\"].head(10)"
   ]
  },
  {
   "cell_type": "code",
   "execution_count": 13,
   "metadata": {
    "_uuid": "d9cca1e1c0258822f80d6c401fc9136d985775d1"
   },
   "outputs": [
    {
     "data": {
      "text/plain": [
       "im        11010\n",
       "good       5790\n",
       "like       5473\n",
       "get        5272\n",
       "lol        5043\n",
       "u          5021\n",
       "dont       4794\n",
       "know       4529\n",
       "love       4403\n",
       "thanks     4032\n",
       "one        3584\n",
       "go         3576\n",
       "cant       3378\n",
       "well       3318\n",
       "day        3245\n",
       "see        3220\n",
       "thats      2998\n",
       "got        2997\n",
       "time       2973\n",
       "think      2865\n",
       "dtype: int64"
      ]
     },
     "execution_count": 13,
     "metadata": {},
     "output_type": "execute_result"
    }
   ],
   "source": [
    "freq=pd.Series(' '.join(train[\"SentimentText\"]).split()).value_counts()[:20]\n",
    "freq"
   ]
  },
  {
   "cell_type": "code",
   "execution_count": 14,
   "metadata": {
    "_uuid": "c85f2d6c3ffef4d5daba5aa2d6b6638824530362"
   },
   "outputs": [
    {
     "data": {
      "text/plain": [
       "<matplotlib.axes._subplots.AxesSubplot at 0x7f6119ef4c18>"
      ]
     },
     "execution_count": 14,
     "metadata": {},
     "output_type": "execute_result"
    },
    {
     "data": {
      "image/png": "[encoded data removed]",
      "text/plain": [
       "<Figure size 432x288 with 1 Axes>"
      ]
     },
     "metadata": {},
     "output_type": "display_data"
    }
   ],
   "source": [
    "import matplotlib.pyplot as plot\n",
    "freq.plot(kind=\"bar\")"
   ]
  },
  {
   "cell_type": "code",
   "execution_count": 15,
   "metadata": {
    "_uuid": "35cc30abfad7036d0579156761734a58d3ca7031"
   },
   "outputs": [
    {
     "data": {
      "text/plain": [
       "['im',\n",
       " 'good',\n",
       " 'like',\n",
       " 'get',\n",
       " 'lol',\n",
       " 'u',\n",
       " 'dont',\n",
       " 'know',\n",
       " 'love',\n",
       " 'thanks',\n",
       " 'one',\n",
       " 'go',\n",
       " 'cant',\n",
       " 'well',\n",
       " 'day',\n",
       " 'see',\n",
       " 'thats',\n",
       " 'got',\n",
       " 'time',\n",
       " 'think']"
      ]
     },
     "execution_count": 15,
     "metadata": {},
     "output_type": "execute_result"
    }
   ],
   "source": [
    "freq=list(freq.index)\n",
    "freq"
   ]
  },
  {
   "cell_type": "code",
   "execution_count": 16,
   "metadata": {
    "_uuid": "ec595ee3dae27c20a5116f56517427a976e87330"
   },
   "outputs": [
    {
     "data": {
      "text/plain": [
       "0                                       sad apl friend\n",
       "1                              missed new moon trailer\n",
       "2                                      omg already 730\n",
       "3    omgaga sooo gunna cry ive dentist since 11 sup...\n",
       "4                                   mi bf cheating t_t\n",
       "5                                           worry much\n",
       "6                     juuuuuuuuuuuuuuuuussssst chillin\n",
       "7                       sunny work tomorrow tv tonight\n",
       "8                    handed uniform today miss already\n",
       "9                                  hmmmm wonder number\n",
       "Name: SentimentText, dtype: object"
      ]
     },
     "execution_count": 16,
     "metadata": {},
     "output_type": "execute_result"
    }
   ],
   "source": [
    "train[\"SentimentText\"]=train[\"SentimentText\"].apply(lambda x: \" \".join(x for x in x.split()if x not in freq))\n",
    "train[\"SentimentText\"].head(10)"
   ]
  },
  {
   "cell_type": "code",
   "execution_count": 17,
   "metadata": {
    "_uuid": "e88a73cfa164f085371157ec227f28db539b287b"
   },
   "outputs": [
    {
     "data": {
      "text/plain": [
       "yacups                 1\n",
       "beardandbeers          1\n",
       "born4gr8tness          1\n",
       "batjosh                1\n",
       "alleannab4ever         1\n",
       "britnielise            1\n",
       "ppppllleeeaaassseee    1\n",
       "ryanseacest            1\n",
       "bookingit              1\n",
       "christy8_77            1\n",
       "dtype: int64"
      ]
     },
     "execution_count": 17,
     "metadata": {},
     "output_type": "execute_result"
    }
   ],
   "source": [
    "freq=pd.Series(\" \".join(train[\"SentimentText\"]).split()).value_counts()[-10:]\n",
    "freq"
   ]
  },
  {
   "cell_type": "code",
   "execution_count": 18,
   "metadata": {
    "_uuid": "e52dc227f76aa229d234f9188918f6d1ce79ef41"
   },
   "outputs": [
    {
     "data": {
      "text/plain": [
       "0                                       sad apl friend\n",
       "1                              missed new moon trailer\n",
       "2                                      omg already 730\n",
       "3    omgaga sooo gunna cry ive dentist since 11 sup...\n",
       "4                                   mi bf cheating t_t\n",
       "5                                           worry much\n",
       "6                     juuuuuuuuuuuuuuuuussssst chillin\n",
       "7                       sunny work tomorrow tv tonight\n",
       "8                    handed uniform today miss already\n",
       "9                                  hmmmm wonder number\n",
       "Name: SentimentText, dtype: object"
      ]
     },
     "execution_count": 18,
     "metadata": {},
     "output_type": "execute_result"
    }
   ],
   "source": [
    "train[\"SentimentText\"]=train[\"SentimentText\"].apply(lambda x: \" \".join(x for x in x.split() if x not in freq))\n",
    "train[\"SentimentText\"].head(10)"
   ]
  },
  {
   "cell_type": "code",
   "execution_count": 19,
   "metadata": {
    "_uuid": "0639b430b973d7bc7a2ecb95d7fc7a9a6b064f58"
   },
   "outputs": [
    {
     "data": {
      "text/plain": [
       "0                                       sad all friend\n",
       "1                              missed new moon trailer\n",
       "2                                      org already 730\n",
       "3    omaha soon unna cry give dentist since 11 supp...\n",
       "4                                   mi of cheating tut\n",
       "Name: SentimentText, dtype: object"
      ]
     },
     "execution_count": 19,
     "metadata": {},
     "output_type": "execute_result"
    }
   ],
   "source": [
    "from textblob import TextBlob\n",
    "train[\"SentimentText\"][:5].apply(lambda x: str(TextBlob(x).correct()))"
   ]
  },
  {
   "cell_type": "code",
   "execution_count": 20,
   "metadata": {
    "_uuid": "1fdc8622823d4d276aca0f6f23672afe5c1dd90f"
   },
   "outputs": [
    {
     "data": {
      "text/plain": [
       "WordList(['omgaga', 'sooo', 'gunna', 'cry', 'ive', 'dentist', 'since', '11', 'suposed', '2', 'crown', 'put', '30mins'])"
      ]
     },
     "execution_count": 20,
     "metadata": {},
     "output_type": "execute_result"
    }
   ],
   "source": [
    "TextBlob(train[\"SentimentText\"][3]).words"
   ]
  },
  {
   "cell_type": "code",
   "execution_count": 21,
   "metadata": {
    "_uuid": "32a9ed3d1f63e2971305ef4c4f204bb08c5fe9c1"
   },
   "outputs": [
    {
     "data": {
      "text/plain": [
       "0                                       sad apl friend\n",
       "1                              missed new moon trailer\n",
       "2                                      omg already 730\n",
       "3    omgaga sooo gunna cry ive dentist since 11 sup...\n",
       "4                                   mi bf cheating t_t\n",
       "5                                           worry much\n",
       "6                     juuuuuuuuuuuuuuuuussssst chillin\n",
       "Name: SentimentText, dtype: object"
      ]
     },
     "execution_count": 21,
     "metadata": {},
     "output_type": "execute_result"
    }
   ],
   "source": [
    "from textblob import Word\n",
    "train[\"SentimentText\"]=train[\"SentimentText\"].apply(lambda x: \" \".join([Word(word).lemmatize() for word in x.split()]))\n",
    "train[\"SentimentText\"].head(7)"
   ]
  },
  {
   "cell_type": "code",
   "execution_count": 22,
   "metadata": {
    "_uuid": "7a931d0d22b69df72c9c56a61d11081ef603e423"
   },
   "outputs": [
    {
     "data": {
      "text/plain": [
       "[WordList(['missed', 'new']),\n",
       " WordList(['new', 'moon']),\n",
       " WordList(['moon', 'trailer'])]"
      ]
     },
     "execution_count": 22,
     "metadata": {},
     "output_type": "execute_result"
    }
   ],
   "source": [
    "TextBlob(train[\"SentimentText\"][1]).ngrams(2)"
   ]
  },
  {
   "cell_type": "code",
   "execution_count": 23,
   "metadata": {
    "_uuid": "d51d01032a5a13fce19188a34bcf1a821f97ecdc"
   },
   "outputs": [],
   "source": []
  }
 ],
 "metadata": {
  "kernelspec": {
   "display_name": "Python 3",
   "language": "python",
   "name": "python3"
  },
  "language_info": {
   "codemirror_mode": {
    "name": "ipython",
    "version": 3
   },
   "file_extension": ".py",
   "mimetype": "text/x-python",
   "name": "python",
   "nbconvert_exporter": "python",
   "pygments_lexer": "ipython3",
   "version": "3.6.6"
  }
 },
 "nbformat": 4,
 "nbformat_minor": 1
}
